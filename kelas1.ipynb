{
  "nbformat": 4,
  "nbformat_minor": 0,
  "metadata": {
    "colab": {
      "provenance": []
    },
    "kernelspec": {
      "name": "python3",
      "display_name": "Python 3"
    },
    "language_info": {
      "name": "python"
    }
  },
  "cells": [
    {
      "cell_type": "code",
      "execution_count": 1,
      "metadata": {
        "id": "wmWMYJy2i15y"
      },
      "outputs": [],
      "source": [
        "# Contoh 1: Kelas Mobil\n",
        "class Mobil:\n",
        "    def __init__(self, merk, warna):\n",
        "        self.merk = merk\n",
        "        self.warna = warna\n",
        "\n",
        "    def info(self):\n",
        "        return f\"Mobil {self.merk} berwarna {self.warna}\"\n",
        "\n",
        "# Membuat objek dari kelas Mobil\n",
        "mobil1 = Mobil(\"Toyota\", \"Merah\")\n",
        "print(mobil1.info())"
      ]
    }
  ]
}