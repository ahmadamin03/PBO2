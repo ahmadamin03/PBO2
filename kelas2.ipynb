{
  "nbformat": 4,
  "nbformat_minor": 0,
  "metadata": {
    "colab": {
      "provenance": []
    },
    "kernelspec": {
      "name": "python3",
      "display_name": "Python 3"
    },
    "language_info": {
      "name": "python"
    }
  },
  "cells": [
    {
      "cell_type": "code",
      "execution_count": 1,
      "metadata": {
        "id": "wmWMYJy2i15y"
      },
      "outputs": [],
      "source": [
        "# Contoh 2: Kelas Mahasiswa\n",
        "class Mahasiswa:\n",
        "    def __init__(self, nama, nim):\n",
        "        self.nama = nama\n",
        "        self.nim = nim\n",
        "\n",
        "    def perkenalan(self):\n",
        "        return f\"Halo, nama saya {self.nama} dengan NIM {self.nim}\"\n",
        "\n",
        "# Membuat objek dari kelas Mahasiswa\n",
        "mhs1 = Mahasiswa(\"Budi\", \"12345678\")\n",
        "print(mhs1.perkenalan())\n"
      ]
    }
  ]
}