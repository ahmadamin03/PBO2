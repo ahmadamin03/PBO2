{
  "nbformat": 4,
  "nbformat_minor": 0,
  "metadata": {
    "colab": {
      "provenance": []
    },
    "kernelspec": {
      "name": "python3",
      "display_name": "Python 3"
    },
    "language_info": {
      "name": "python"
    }
  },
  "cells": [
    {
      "cell_type": "code",
      "execution_count": 1,
      "metadata": {
        "id": "wmWMYJy2i15y"
      },
      "outputs": [],
      "source": [
        "# Contoh 3: Kelas Persegi\n",
        "class Persegi:\n",
        "    def __init__(self, sisi):\n",
        "        self.sisi = sisi\n",
        "\n",
        "    def luas(self):\n",
        "        return self.sisi ** 2\n",
        "\n",
        "# Membuat objek dari kelas Persegi\n",
        "persegi1 = Persegi(4)\n",
        "print(f\"Luas persegi: {persegi1.luas()}\")"
      ]
    }
  ]
}