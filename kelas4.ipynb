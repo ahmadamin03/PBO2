{
  "nbformat": 4,
  "nbformat_minor": 0,
  "metadata": {
    "colab": {
      "provenance": []
    },
    "kernelspec": {
      "name": "python3",
      "display_name": "Python 3"
    },
    "language_info": {
      "name": "python"
    }
  },
  "cells": [
    {
      "cell_type": "code",
      "execution_count": 1,
      "metadata": {
        "id": "wmWMYJy2i15y"
      },
      "outputs": [],
      "source": [
        "# Contoh 4: Kelas Hewan\n",
        "class Hewan:\n",
        "    def __init__(self, nama, jenis):\n",
        "        self.nama = nama\n",
        "        self.jenis = jenis\n",
        "\n",
        "    def suara(self):\n",
        "        return f\"{self.nama} adalah hewan jenis {self.jenis}\"\n",
        "\n",
        "# Membuat objek dari kelas Hewan\n",
        "hewan1 = Hewan(\"Kucing\", \"Mamalia\")\n",
        "print(hewan1.suara())"
      ]
    }
  ]
}