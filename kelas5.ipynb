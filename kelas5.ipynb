{
  "nbformat": 4,
  "nbformat_minor": 0,
  "metadata": {
    "colab": {
      "provenance": []
    },
    "kernelspec": {
      "name": "python3",
      "display_name": "Python 3"
    },
    "language_info": {
      "name": "python"
    }
  },
  "cells": [
    {
      "cell_type": "code",
      "execution_count": 1,
      "metadata": {
        "id": "wmWMYJy2i15y"
      },
      "outputs": [],
      "source": [
        "# Contoh 5: Kelas Buku\n",
        "class Buku:\n",
        "    def __init__(self, judul, penulis):\n",
        "        self.judul = judul\n",
        "        self.penulis = penulis\n",
        "\n",
        "    def deskripsi(self):\n",
        "        return f\"Buku berjudul '{self.judul}' ditulis oleh {self.penulis}\"\n",
        "\n",
        "# Membuat objek dari kelas Buku\n",
        "buku1 = Buku(\"Laskar Pelangi\", \"Andrea Hirata\")\n",
        "print(buku1.deskripsi())"
      ]
    }
  ]
}